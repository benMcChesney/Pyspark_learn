{
 "cells": [
  {
   "cell_type": "code",
   "execution_count": null,
   "metadata": {},
   "outputs": [],
   "source": [
    "from pyspark.sql import SparkSession\n",
    "from pyspark.sql.functions import col\n",
    "\n",
    "\n",
    "\"\"\"\n",
    "# Create a SparkSession\n",
    "spark = SparkSession.builder \\\n",
    "    .appName(\"Load MySQL Table and Write as Delta\") \\\n",
    "    .getOrCreate()\n",
    "#     .config(\"spark.jars\", \"/path/to/mysql-connector-java.jar\") \\\n",
    "spark.sparkContext.setJobDescription(\"delta job\")\n",
    "\"\"\"\n",
    "\n",
    "from delta import configure_spark_with_delta_pip\n",
    "from pyspark.sql import SparkSession\n",
    "\n",
    "builder = (\n",
    "        SparkSession.builder\n",
    "        .appName(\"pyspark-deltaLake-local\")\n",
    "        .config('spark.sql.extensions', 'io.delta.sql.DeltaSparkSessionExtension')\n",
    "        .config('spark.sql.catalog.spark_catalog', 'org.apache.spark.sql.delta.catalog.DeltaCatalog')\n",
    "\n",
    ")\n",
    "\n",
    "spark = configure_spark_with_delta_pip(builder).getOrCreate()\n"
   ]
  },
  {
   "cell_type": "code",
   "execution_count": 11,
   "metadata": {},
   "outputs": [],
   "source": [
    "import os\n",
    "import sys\n",
    "\n",
    "os.environ['PYSPARK_PYTHON'] = sys.executable\n",
    "os.environ['PYSPARK_DRIVER_PYTHON'] = sys.executable"
   ]
  },
  {
   "cell_type": "code",
   "execution_count": 12,
   "metadata": {},
   "outputs": [
    {
     "name": "stdout",
     "output_type": "stream",
     "text": [
      "3.5.4\n"
     ]
    }
   ],
   "source": [
    "import findspark\n",
    "findspark.init()\n",
    "findspark.add_packages('mysql:mysql-connector-java:9.2.0')\n",
    "print( spark.version )"
   ]
  },
  {
   "cell_type": "code",
   "execution_count": 13,
   "metadata": {},
   "outputs": [
    {
     "name": "stdout",
     "output_type": "stream",
     "text": [
      "+---+----------+\n",
      "|age|      name|\n",
      "+---+----------+\n",
      "| 30|John    D.|\n",
      "| 25|Alice   G.|\n",
      "| 35|   Bob  T.|\n",
      "| 28|  Eve   A.|\n",
      "+---+----------+\n",
      "\n"
     ]
    }
   ],
   "source": [
    "sample_data = [{\"name\": \"John    D.\", \"age\": 30},\n",
    "  {\"name\": \"Alice   G.\", \"age\": 25},\n",
    "  {\"name\": \"Bob  T.\", \"age\": 35},\n",
    "  {\"name\": \"Eve   A.\", \"age\": 28}]\n",
    "\n",
    "df = spark.createDataFrame(sample_data)\n",
    "df.show()"
   ]
  },
  {
   "cell_type": "code",
   "execution_count": 14,
   "metadata": {},
   "outputs": [
    {
     "name": "stdout",
     "output_type": "stream",
     "text": [
      "loaded ini\n"
     ]
    }
   ],
   "source": [
    "import configparser\n",
    "\n",
    "# Create a ConfigParser object\n",
    "config = configparser.ConfigParser()\n",
    "\n",
    "# Read the .ini file\n",
    "config.read('settings.ini')  # Replace with the path to your .ini file\n",
    "# Accessing data from the .ini file\n",
    "username = config['settings']['username']\n",
    "password = config['settings']['password']\n",
    "host = config['settings']['host']\n",
    "port = config['settings']['port']\n",
    "schema = config['database']['schema']\n",
    "print('loaded ini')\n"
   ]
  },
  {
   "cell_type": "code",
   "execution_count": 15,
   "metadata": {},
   "outputs": [
    {
     "name": "stdout",
     "output_type": "stream",
     "text": [
      "+---+----+-----+---+--------+--------------+---------+--------+--------------+---------+-------+------+-------+------+----+--------+--------+----+------+-------------------+--------------------+\n",
      "| id|year|month|day|dep_time|sched_dep_time|dep_delay|arr_time|sched_arr_time|arr_delay|carrier|flight|tailnum|origin|dest|air_time|distance|hour|minute|          time_hour|                name|\n",
      "+---+----+-----+---+--------+--------------+---------+--------+--------------+---------+-------+------+-------+------+----+--------+--------+----+------+-------------------+--------------------+\n",
      "|  0|2013|    1|  1|   517.0|           515|      2.0|   830.0|           819|     11.0|     UA|  1545| N14228|   EWR| IAH|   227.0|    1400|   5|    15|2013-01-01 05:00:00|United Air Lines ...|\n",
      "|  1|2013|    1|  1|   533.0|           529|      4.0|   850.0|           830|     20.0|     UA|  1714| N24211|   LGA| IAH|   227.0|    1416|   5|    29|2013-01-01 05:00:00|United Air Lines ...|\n",
      "|  2|2013|    1|  1|   542.0|           540|      2.0|   923.0|           850|     33.0|     AA|  1141| N619AA|   JFK| MIA|   160.0|    1089|   5|    40|2013-01-01 05:00:00|American Airlines...|\n",
      "|  3|2013|    1|  1|   544.0|           545|     -1.0|  1004.0|          1022|    -18.0|     B6|   725| N804JB|   JFK| BQN|   183.0|    1576|   5|    45|2013-01-01 05:00:00|     JetBlue Airways|\n",
      "|  4|2013|    1|  1|   554.0|           600|     -6.0|   812.0|           837|    -25.0|     DL|   461| N668DN|   LGA| ATL|   116.0|     762|   6|     0|2013-01-01 06:00:00|Delta Air Lines Inc.|\n",
      "+---+----+-----+---+--------+--------------+---------+--------+--------------+---------+-------+------+-------+------+----+--------+--------+----+------+-------------------+--------------------+\n",
      "only showing top 5 rows\n",
      "\n"
     ]
    }
   ],
   "source": [
    "\n",
    "# Define the MySQL connection properties\n",
    "url = f\"jdbc:mysql://{host}:{port}/{schema}\"  # Replace with your MySQL server details\n",
    "# print( url ) \n",
    "properties = {\n",
    "    \"user\": username,  # Replace with your MySQL username\n",
    "    \"password\": password,  # Replace with your MySQL password\n",
    "    \"driver\": \"com.mysql.cj.jdbc.Driver\"  # MySQL JDBC driver\n",
    "}\n",
    "\n",
    "\n",
    "# Load data from MySQL table into a PySpark DataFrame\n",
    "df = spark.read.jdbc(url=url, table=\"flights\", properties=properties)\n",
    "\n",
    "# Show the data\n",
    "df.show(5)"
   ]
  },
  {
   "cell_type": "code",
   "execution_count": 29,
   "metadata": {},
   "outputs": [
    {
     "name": "stdout",
     "output_type": "stream",
     "text": [
      "+---+----+-----+---+--------+--------------+---------+--------+--------------+---------+-------+------+-------+------+----+--------+--------+----+------+-------------------+--------------------+\n",
      "| id|year|month|day|dep_time|sched_dep_time|dep_delay|arr_time|sched_arr_time|arr_delay|carrier|flight|tailnum|origin|dest|air_time|distance|hour|minute|          time_hour|                name|\n",
      "+---+----+-----+---+--------+--------------+---------+--------+--------------+---------+-------+------+-------+------+----+--------+--------+----+------+-------------------+--------------------+\n",
      "|  0|2013|    1|  1|   517.0|           515|      2.0|   830.0|           819|     11.0|     UA|  1545| N14228|   EWR| IAH|   227.0|    1400|   5|    15|2013-01-01 05:00:00|United Air Lines ...|\n",
      "|  1|2013|    1|  1|   533.0|           529|      4.0|   850.0|           830|     20.0|     UA|  1714| N24211|   LGA| IAH|   227.0|    1416|   5|    29|2013-01-01 05:00:00|United Air Lines ...|\n",
      "|  2|2013|    1|  1|   542.0|           540|      2.0|   923.0|           850|     33.0|     AA|  1141| N619AA|   JFK| MIA|   160.0|    1089|   5|    40|2013-01-01 05:00:00|American Airlines...|\n",
      "|  3|2013|    1|  1|   544.0|           545|     -1.0|  1004.0|          1022|    -18.0|     B6|   725| N804JB|   JFK| BQN|   183.0|    1576|   5|    45|2013-01-01 05:00:00|     JetBlue Airways|\n",
      "|  4|2013|    1|  1|   554.0|           600|     -6.0|   812.0|           837|    -25.0|     DL|   461| N668DN|   LGA| ATL|   116.0|     762|   6|     0|2013-01-01 06:00:00|Delta Air Lines Inc.|\n",
      "+---+----+-----+---+--------+--------------+---------+--------+--------------+---------+-------+------+-------+------+----+--------+--------+----+------+-------------------+--------------------+\n",
      "only showing top 5 rows\n",
      "\n"
     ]
    }
   ],
   "source": [
    "object_name = \"flights\"\n",
    "# Load data from the MySQL table into a PySpark DataFrame\n",
    "df = spark.read.jdbc(url=url, table=object_name, properties=properties)\n",
    "\n",
    "# Register the DataFrame as a temporary view\n",
    "df.createOrReplaceTempView( object_name )\n",
    "\n",
    "# Show the result of the SQL query\n",
    "df.show(5)\n",
    "query_sql = \"SELECT * FROM flights WHERE month = 1\"\n",
    "result_df = spark.sql(query_sql)\n",
    "\n",
    "# Define the path where the Delta table will be saved\n",
    "delta_path = \"data/flights_merge/\" # Replace with your desired Delta table path\n",
    "\n",
    "# Save the DataFrame as a Delta table\n",
    "result_df.write.format(\"delta\").mode(\"overwrite\").save(delta_path)\n",
    "\n"
   ]
  },
  {
   "cell_type": "code",
   "execution_count": 25,
   "metadata": {},
   "outputs": [
    {
     "name": "stdout",
     "output_type": "stream",
     "text": [
      "+---+----+-----+---+--------+--------------+---------+--------+--------------+---------+-------+------+-------+------+----+--------+--------+----+------+-------------------+--------------------+\n",
      "| id|year|month|day|dep_time|sched_dep_time|dep_delay|arr_time|sched_arr_time|arr_delay|carrier|flight|tailnum|origin|dest|air_time|distance|hour|minute|          time_hour|                name|\n",
      "+---+----+-----+---+--------+--------------+---------+--------+--------------+---------+-------+------+-------+------+----+--------+--------+----+------+-------------------+--------------------+\n",
      "|  0|2013|    1|  1|   517.0|           515|      2.0|   830.0|           819|     11.0|     UA|  1545| N14228|   EWR| IAH|   227.0|    1400|   5|    15|2013-01-01 05:00:00|United Air Lines ...|\n",
      "|  1|2013|    1|  1|   533.0|           529|      4.0|   850.0|           830|     20.0|     UA|  1714| N24211|   LGA| IAH|   227.0|    1416|   5|    29|2013-01-01 05:00:00|United Air Lines ...|\n",
      "|  2|2013|    1|  1|   542.0|           540|      2.0|   923.0|           850|     33.0|     AA|  1141| N619AA|   JFK| MIA|   160.0|    1089|   5|    40|2013-01-01 05:00:00|American Airlines...|\n",
      "|  3|2013|    1|  1|   544.0|           545|     -1.0|  1004.0|          1022|    -18.0|     B6|   725| N804JB|   JFK| BQN|   183.0|    1576|   5|    45|2013-01-01 05:00:00|     JetBlue Airways|\n",
      "|  4|2013|    1|  1|   554.0|           600|     -6.0|   812.0|           837|    -25.0|     DL|   461| N668DN|   LGA| ATL|   116.0|     762|   6|     0|2013-01-01 06:00:00|Delta Air Lines Inc.|\n",
      "+---+----+-----+---+--------+--------------+---------+--------+--------------+---------+-------+------+-------+------+----+--------+--------+----+------+-------------------+--------------------+\n",
      "only showing top 5 rows\n",
      "\n"
     ]
    }
   ],
   "source": [
    "\n",
    "query_sql = \"SELECT * FROM flights WHERE month <= 2\"\n",
    "two_month_df = spark.sql(query_sql)\n",
    "two_month_df.show(5)"
   ]
  },
  {
   "cell_type": "code",
   "execution_count": 30,
   "metadata": {},
   "outputs": [
    {
     "name": "stdout",
     "output_type": "stream",
     "text": [
      "+---+----+-----+---+--------+--------------+---------+--------+--------------+---------+-------+------+-------+------+----+--------+--------+----+------+-------------------+--------------------+\n",
      "| id|year|month|day|dep_time|sched_dep_time|dep_delay|arr_time|sched_arr_time|arr_delay|carrier|flight|tailnum|origin|dest|air_time|distance|hour|minute|          time_hour|                name|\n",
      "+---+----+-----+---+--------+--------------+---------+--------+--------------+---------+-------+------+-------+------+----+--------+--------+----+------+-------------------+--------------------+\n",
      "|  0|2013|    1|  1|   517.0|           515|      2.0|   830.0|           819|     11.0|     UA|  1545| N14228|   EWR| IAH|   227.0|    1400|   5|    15|2013-01-01 05:00:00|United Air Lines ...|\n",
      "|  1|2013|    1|  1|   533.0|           529|      4.0|   850.0|           830|     20.0|     UA|  1714| N24211|   LGA| IAH|   227.0|    1416|   5|    29|2013-01-01 05:00:00|United Air Lines ...|\n",
      "|  2|2013|    1|  1|   542.0|           540|      2.0|   923.0|           850|     33.0|     AA|  1141| N619AA|   JFK| MIA|   160.0|    1089|   5|    40|2013-01-01 05:00:00|American Airlines...|\n",
      "|  3|2013|    1|  1|   544.0|           545|     -1.0|  1004.0|          1022|    -18.0|     B6|   725| N804JB|   JFK| BQN|   183.0|    1576|   5|    45|2013-01-01 05:00:00|     JetBlue Airways|\n",
      "|  4|2013|    1|  1|   554.0|           600|     -6.0|   812.0|           837|    -25.0|     DL|   461| N668DN|   LGA| ATL|   116.0|     762|   6|     0|2013-01-01 06:00:00|Delta Air Lines Inc.|\n",
      "+---+----+-----+---+--------+--------------+---------+--------+--------------+---------+-------+------+-------+------+----+--------+--------+----+------+-------------------+--------------------+\n",
      "only showing top 5 rows\n",
      "\n"
     ]
    }
   ],
   "source": [
    "from delta.tables import DeltaTable\n",
    "\n",
    "delta_name = \"flights\"\n",
    "# Define the path to the existing Delta table\n",
    "delta_path = \"data/flights_merge/\"  \n",
    "\n",
    "# Load the existing Delta table\n",
    "delta_table = DeltaTable.forPath(spark, delta_path)\n",
    "delta_table_df = delta_table.toDF()\n",
    "delta_table_df.show(5)\n",
    "df.createOrReplaceTempView( \"flights_merge\" )"
   ]
  },
  {
   "cell_type": "code",
   "execution_count": 31,
   "metadata": {},
   "outputs": [
    {
     "name": "stdout",
     "output_type": "stream",
     "text": [
      "+----------+--------+\n",
      "|max(month)|max(day)|\n",
      "+----------+--------+\n",
      "|        12|      31|\n",
      "+----------+--------+\n",
      "\n"
     ]
    }
   ],
   "source": [
    "prevCheckpoint = spark.sql( \"select max( month ) , max( day ) from flights_merge \")\n",
    "prevCheckpoint.show() "
   ]
  },
  {
   "cell_type": "code",
   "execution_count": null,
   "metadata": {},
   "outputs": [
    {
     "name": "stdout",
     "output_type": "stream",
     "text": [
      "+---+----+-----+---+--------+--------------+---------+--------+--------------+---------+-------+------+-------+------+----+--------+--------+----+------+-------------------+--------------------+\n",
      "| id|year|month|day|dep_time|sched_dep_time|dep_delay|arr_time|sched_arr_time|arr_delay|carrier|flight|tailnum|origin|dest|air_time|distance|hour|minute|          time_hour|                name|\n",
      "+---+----+-----+---+--------+--------------+---------+--------+--------------+---------+-------+------+-------+------+----+--------+--------+----+------+-------------------+--------------------+\n",
      "|159|2013|    1|  1|   856.0|           900|     -4.0|  1226.0|          1220|      6.0|     AA|     1| N324AA|   JFK| LAX|   358.0|    2475|   9|     0|2013-01-01 09:00:00|American Airlines...|\n",
      "|295|2013|    1|  1|  1155.0|          1200|     -5.0|  1517.0|          1510|      7.0|     AA|     3| N322AA|   JFK| LAX|   353.0|    2475|  12|     0|2013-01-01 12:00:00|American Airlines...|\n",
      "|823|2013|    1|  1|  2229.0|          2159|     30.0|   149.0|           100|     49.0|     B6|    11| N531JB|   JFK| FLL|   153.0|    1069|  21|    59|2013-01-01 21:00:00|     JetBlue Airways|\n",
      "| 78|2013|    1|  1|   724.0|           725|     -1.0|  1020.0|          1030|    -10.0|     AS|    11| N594AS|   EWR| SEA|   338.0|    2402|   7|    25|2013-01-01 07:00:00|Alaska Airlines Inc.|\n",
      "|525|2013|    1|  1|  1607.0|          1555|     12.0|  1735.0|          1715|     20.0|     B6|    12| N184JB|   JFK| SYR|    58.0|     209|  15|    55|2013-01-01 15:00:00|     JetBlue Airways|\n",
      "|235|2013|    1|  1|  1026.0|          1030|     -4.0|  1351.0|          1340|     11.0|     AA|    19| N328AA|   JFK| LAX|   356.0|    2475|  10|    30|2013-01-01 10:00:00|American Airlines...|\n",
      "|309|2013|    1|  1|  1203.0|          1200|      3.0|  1519.0|          1545|    -26.0|     VX|    25| N843VA|   JFK| SFO|   353.0|    2586|  12|     0|2013-01-01 12:00:00|      Virgin America|\n",
      "|684|2013|    1|  1|  1850.0|          1850|      0.0|  2249.0|          2240|      9.0|     VX|    29| N638VA|   JFK| SFO|   364.0|    2586|  18|    50|2013-01-01 18:00:00|      Virgin America|\n",
      "|571|2013|    1|  1|  1655.0|          1700|     -5.0|  2027.0|          2049|    -22.0|     DL|    31| N713TW|   JFK| SFO|   357.0|    2586|  17|     0|2013-01-01 17:00:00|Delta Air Lines Inc.|\n",
      "|391|2013|    1|  1|  1356.0|          1259|     57.0|  1538.0|          1438|     60.0|     UA|    32| N17128|   EWR| ORD|   135.0|     719|  12|    59|2013-01-01 12:00:00|United Air Lines ...|\n",
      "|766|2013|    1|  1|  2026.0|          1930|     56.0|  2319.0|          2229|     50.0|     B6|    39| N558JB|   JFK| PBI|   150.0|    1028|  19|    30|2013-01-01 19:00:00|     JetBlue Airways|\n",
      "|157|2013|    1|  1|   853.0|           845|      8.0|  1147.0|          1145|      2.0|     B6|    59| N184JB|   JFK| TPA|   159.0|    1005|   8|    45|2013-01-01 08:00:00|     JetBlue Airways|\n",
      "|429|2013|    1|  1|  1452.0|          1457|     -5.0|  1753.0|          1811|    -18.0|     B6|    61| N292JB|   JFK| FLL|   162.0|    1069|  14|    57|2013-01-01 14:00:00|     JetBlue Airways|\n",
      "|553|2013|    1|  1|  1634.0|          1626|      8.0|  1913.0|          1852|     21.0|     UA|    69| N27213|   EWR| DEN|   247.0|    1605|  16|    26|2013-01-01 16:00:00|United Air Lines ...|\n",
      "|695|2013|    1|  1|  1900.0|          1845|     15.0|  2212.0|          2227|    -15.0|     B6|    91| N523JB|   JFK| OAK|   330.0|    2576|  18|    45|2013-01-01 18:00:00|     JetBlue Airways|\n",
      "|809|2013|    1|  1|  2129.0|          2120|      9.0|  2342.0|          2351|     -9.0|     B6|    97| N625JB|   JFK| DEN|   223.0|    1626|  21|    20|2013-01-01 21:00:00|     JetBlue Airways|\n",
      "| 48|2013|    1|  1|   645.0|           647|     -2.0|   815.0|           810|      5.0|     B6|   102| N796JB|   JFK| BUF|    63.0|     301|   6|    47|2013-01-01 06:00:00|     JetBlue Airways|\n",
      "| 52|2013|    1|  1|   652.0|           655|     -3.0|   932.0|           921|     11.0|     B6|   117| N178JB|   JFK| MSY|   191.0|    1182|   6|    55|2013-01-01 06:00:00|     JetBlue Airways|\n",
      "|282|2013|    1|  1|  1133.0|          1129|      4.0|  1440.0|          1437|      3.0|     B6|   133| N652JB|   JFK| RSW|   168.0|    1074|  11|    29|2013-01-01 11:00:00|     JetBlue Airways|\n",
      "| 27|2013|    1|  1|   613.0|           610|      3.0|   925.0|           921|      4.0|     B6|   135| N635JB|   JFK| RSW|   175.0|    1074|   6|    10|2013-01-01 06:00:00|     JetBlue Airways|\n",
      "+---+----+-----+---+--------+--------------+---------+--------+--------------+---------+-------+------+-------+------+----+--------+--------+----+------+-------------------+--------------------+\n",
      "only showing top 20 rows\n",
      "\n"
     ]
    }
   ],
   "source": [
    "\n",
    "# Define t`he condition for the merge with multiple columns\n",
    "merge_condition = \"\"\"source.month = target.month \n",
    "AND source.day = target.day\n",
    "AND source.flight = target.flight\n",
    "AND source.tailnum = target.tailnum\"\"\"\n",
    "\n",
    "# Perform the merge operation\n",
    "delta_table.alias(\"target\").merge(\n",
    "    two_month_df.alias(\"source\"),\n",
    "    merge_condition\n",
    ").whenMatchedUpdateAll(\n",
    ").whenNotMatchedInsertAll(\n",
    ").execute() \n",
    "\n",
    "# Show the merged Delta table\n",
    "delta_table.toDF().show(5)\n",
    "df.createOrReplaceTempView( object_name )"
   ]
  }
 ],
 "metadata": {
  "kernelspec": {
   "display_name": "Python 3",
   "language": "python",
   "name": "python3"
  },
  "language_info": {
   "codemirror_mode": {
    "name": "ipython",
    "version": 3
   },
   "file_extension": ".py",
   "mimetype": "text/x-python",
   "name": "python",
   "nbconvert_exporter": "python",
   "pygments_lexer": "ipython3",
   "version": "3.9.13"
  }
 },
 "nbformat": 4,
 "nbformat_minor": 2
}
